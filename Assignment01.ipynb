{
  "nbformat": 4,
  "nbformat_minor": 0,
  "metadata": {
    "colab": {
      "provenance": [],
      "mount_file_id": "1CYNbELWkrI19oHtCnMkMzRG9ZKba1Rki",
      "authorship_tag": "ABX9TyNMlSupWM5bW+v8xVtdiLOP",
      "include_colab_link": true
    },
    "kernelspec": {
      "name": "python3",
      "display_name": "Python 3"
    },
    "language_info": {
      "name": "python"
    }
  },
  "cells": [
    {
      "cell_type": "markdown",
      "metadata": {
        "id": "view-in-github",
        "colab_type": "text"
      },
      "source": [
        "<a href=\"https://colab.research.google.com/github/jaehyun99/Computer_Vision/blob/main/Assignment01.ipynb\" target=\"_parent\"><img src=\"https://colab.research.google.com/assets/colab-badge.svg\" alt=\"Open In Colab\"/></a>"
      ]
    },
    {
      "cell_type": "code",
      "execution_count": null,
      "metadata": {
        "id": "DtujFmVPh7RX"
      },
      "outputs": [],
      "source": [
        "import cv2\n",
        "from google.colab.patches import cv2_imshow\n",
        "\n",
        "import matplotlib.pyplot as plt"
      ]
    },
    {
      "cell_type": "code",
      "source": [
        "img = cv2.imread(\"drive/MyDrive/PR201910807/images/lab01_rainbow.jpg\")"
      ],
      "metadata": {
        "id": "O6Cwz-EeiW1M"
      },
      "execution_count": null,
      "outputs": []
    },
    {
      "cell_type": "code",
      "source": [
        "bimg = img.copy()\n",
        "bimg[:,:,1] = 0\n",
        "bimg[:,:,2] = 0"
      ],
      "metadata": {
        "id": "-fr8gqeHjDOK"
      },
      "execution_count": null,
      "outputs": []
    },
    {
      "cell_type": "code",
      "source": [
        "bimg.shape\n",
        "bimg.flatten().shape\n",
        "plt.hist(bimg.flatten(), bins = 256)"
      ],
      "metadata": {
        "colab": {
          "base_uri": "https://localhost:8080/",
          "height": 1000
        },
        "id": "5dXQ6IJ2jkrF",
        "outputId": "ccc01f35-a4be-43a5-dfea-e63e12e0bbfe"
      },
      "execution_count": null,
      "outputs": [
        {
          "output_type": "execute_result",
          "data": {
            "text/plain": [
              "(array([4.7359234e+07, 9.9322000e+05, 1.4787000e+05, 1.3111000e+05,\n",
              "        1.0520800e+05, 1.0695900e+05, 1.0783600e+05, 1.1086600e+05,\n",
              "        1.3057600e+05, 1.5143400e+05, 1.6550200e+05, 1.7633900e+05,\n",
              "        1.7240900e+05, 1.9312300e+05, 1.8671700e+05, 1.6931600e+05,\n",
              "        1.9125100e+05, 1.7973400e+05, 1.7765300e+05, 1.7275200e+05,\n",
              "        1.9440800e+05, 1.7730900e+05, 1.7099800e+05, 2.1773800e+05,\n",
              "        2.8763900e+05, 2.4907800e+05, 2.4040200e+05, 2.8931800e+05,\n",
              "        3.1281900e+05, 2.3067000e+05, 2.4992700e+05, 2.9311300e+05,\n",
              "        2.7972900e+05, 2.0348400e+05, 2.3244700e+05, 2.1862500e+05,\n",
              "        1.6958400e+05, 2.5328100e+05, 1.8518900e+05, 1.9059800e+05,\n",
              "        1.5693900e+05, 1.1558300e+05, 2.5274000e+04, 1.6034000e+04,\n",
              "        2.4817000e+04, 2.9987000e+04, 1.4856000e+04, 2.6789000e+04,\n",
              "        2.0908000e+04, 1.7017000e+04, 4.0408000e+04, 1.9759000e+04,\n",
              "        3.2960000e+04, 2.0522000e+04, 3.3227000e+04, 3.6415000e+04,\n",
              "        2.1603000e+04, 2.7199000e+04, 3.3373000e+04, 3.3767000e+04,\n",
              "        2.9835000e+04, 3.5389000e+04, 3.1810000e+04, 3.4726000e+04,\n",
              "        2.6736000e+04, 4.0414000e+04, 2.8579000e+04, 3.6965000e+04,\n",
              "        2.8958000e+04, 5.2922000e+04, 3.1440000e+04, 3.4848000e+04,\n",
              "        4.2546000e+04, 4.4110000e+04, 3.4683000e+04, 4.7300000e+04,\n",
              "        3.2519000e+04, 5.5486000e+04, 3.4649000e+04, 4.5680000e+04,\n",
              "        3.8242000e+04, 4.5351000e+04, 4.4562000e+04, 3.3997000e+04,\n",
              "        4.5937000e+04, 3.7131000e+04, 3.5653000e+04, 4.9615000e+04,\n",
              "        5.3796000e+04, 3.2752000e+04, 4.5666000e+04, 3.5076000e+04,\n",
              "        4.8143000e+04, 3.4446000e+04, 3.3033000e+04, 5.6774000e+04,\n",
              "        3.6687000e+04, 4.5634000e+04, 4.7687000e+04, 3.3941000e+04,\n",
              "        4.1643000e+04, 4.1578000e+04, 3.3785000e+04, 4.6795000e+04,\n",
              "        3.6343000e+04, 5.7525000e+04, 3.8905000e+04, 3.3370000e+04,\n",
              "        4.7172000e+04, 3.3950000e+04, 5.0117000e+04, 3.1947000e+04,\n",
              "        5.0066000e+04, 3.4930000e+04, 4.9284000e+04, 3.5136000e+04,\n",
              "        5.2819000e+04, 3.3627000e+04, 4.9584000e+04, 3.5475000e+04,\n",
              "        4.7434000e+04, 3.3578000e+04, 5.5824000e+04, 4.0458000e+04,\n",
              "        4.4302000e+04, 3.6449000e+04, 4.7862000e+04, 3.5247000e+04,\n",
              "        4.9665000e+04, 3.4810000e+04, 4.7865000e+04, 5.1928000e+04,\n",
              "        3.7511000e+04, 5.5074000e+04, 3.4226000e+04, 5.2271000e+04,\n",
              "        3.7395000e+04, 4.3968000e+04, 4.6771000e+04, 4.0005000e+04,\n",
              "        9.6621000e+04, 5.5679000e+04, 9.3080000e+04, 6.4541000e+04,\n",
              "        7.0257000e+04, 6.4346000e+04, 7.5512000e+04, 9.2101000e+04,\n",
              "        5.2227000e+04, 7.8295000e+04, 5.9596000e+04, 5.0340000e+04,\n",
              "        8.2768000e+04, 7.4912000e+04, 6.9436000e+04, 7.7431000e+04,\n",
              "        4.2590000e+04, 8.6398000e+04, 3.5372000e+04, 1.1682500e+05,\n",
              "        4.0973000e+04, 7.1676000e+04, 6.3904000e+04, 5.4842000e+04,\n",
              "        8.2866000e+04, 5.2989000e+04, 7.8879000e+04, 6.9675000e+04,\n",
              "        3.8558000e+04, 8.4975000e+04, 2.9890000e+04, 8.3470000e+04,\n",
              "        5.5671000e+04, 7.6670000e+04, 6.5328000e+04, 3.7594000e+04,\n",
              "        1.2384200e+05, 2.7608000e+04, 6.7228000e+04, 3.9081000e+04,\n",
              "        5.9458000e+04, 7.5354000e+04, 5.5555000e+04, 8.9016000e+04,\n",
              "        6.6099000e+04, 3.1489000e+04, 6.1298000e+04, 3.6932000e+04,\n",
              "        7.7092000e+04, 5.8013000e+04, 5.5071000e+04, 5.3456000e+04,\n",
              "        8.0404000e+04, 6.7235000e+04, 3.9639000e+04, 7.3227000e+04,\n",
              "        2.2237000e+04, 7.1799000e+04, 6.1939000e+04, 3.0282000e+04,\n",
              "        8.3448000e+04, 4.9573000e+04, 6.3265000e+04, 5.1569000e+04,\n",
              "        5.1911000e+04, 6.1288000e+04, 6.2722000e+04, 6.0079000e+04,\n",
              "        7.6952000e+04, 3.7357000e+04, 7.3215000e+04, 4.0616000e+04,\n",
              "        6.5414000e+04, 4.0666000e+04, 8.0959000e+04, 5.5460000e+04,\n",
              "        6.1529000e+04, 6.1247000e+04, 7.4866000e+04, 4.5244000e+04,\n",
              "        5.8000000e+04, 5.2344000e+04, 5.1495000e+04, 3.0325000e+04,\n",
              "        7.4082000e+04, 6.1536000e+04, 5.8522000e+04, 5.7519000e+04,\n",
              "        3.8577000e+04, 6.9704000e+04, 4.5798000e+04, 4.9084000e+04,\n",
              "        4.6085000e+04, 5.6739000e+04, 5.4929000e+04, 7.1036000e+04,\n",
              "        3.7718000e+04, 4.7762000e+04, 6.8759000e+04, 3.4564000e+04,\n",
              "        5.0934000e+04, 4.8178000e+04, 4.0096000e+04, 3.6709000e+04,\n",
              "        5.8034000e+04, 6.8583000e+04, 3.7315000e+04, 6.7678000e+04,\n",
              "        3.9788000e+04, 3.1847000e+04, 4.4049000e+04, 4.4620000e+04,\n",
              "        3.9223000e+04, 4.7500000e+04, 3.9128000e+04, 4.2527000e+04]),\n",
              " array([  0.        ,   0.99609375,   1.9921875 ,   2.98828125,\n",
              "          3.984375  ,   4.98046875,   5.9765625 ,   6.97265625,\n",
              "          7.96875   ,   8.96484375,   9.9609375 ,  10.95703125,\n",
              "         11.953125  ,  12.94921875,  13.9453125 ,  14.94140625,\n",
              "         15.9375    ,  16.93359375,  17.9296875 ,  18.92578125,\n",
              "         19.921875  ,  20.91796875,  21.9140625 ,  22.91015625,\n",
              "         23.90625   ,  24.90234375,  25.8984375 ,  26.89453125,\n",
              "         27.890625  ,  28.88671875,  29.8828125 ,  30.87890625,\n",
              "         31.875     ,  32.87109375,  33.8671875 ,  34.86328125,\n",
              "         35.859375  ,  36.85546875,  37.8515625 ,  38.84765625,\n",
              "         39.84375   ,  40.83984375,  41.8359375 ,  42.83203125,\n",
              "         43.828125  ,  44.82421875,  45.8203125 ,  46.81640625,\n",
              "         47.8125    ,  48.80859375,  49.8046875 ,  50.80078125,\n",
              "         51.796875  ,  52.79296875,  53.7890625 ,  54.78515625,\n",
              "         55.78125   ,  56.77734375,  57.7734375 ,  58.76953125,\n",
              "         59.765625  ,  60.76171875,  61.7578125 ,  62.75390625,\n",
              "         63.75      ,  64.74609375,  65.7421875 ,  66.73828125,\n",
              "         67.734375  ,  68.73046875,  69.7265625 ,  70.72265625,\n",
              "         71.71875   ,  72.71484375,  73.7109375 ,  74.70703125,\n",
              "         75.703125  ,  76.69921875,  77.6953125 ,  78.69140625,\n",
              "         79.6875    ,  80.68359375,  81.6796875 ,  82.67578125,\n",
              "         83.671875  ,  84.66796875,  85.6640625 ,  86.66015625,\n",
              "         87.65625   ,  88.65234375,  89.6484375 ,  90.64453125,\n",
              "         91.640625  ,  92.63671875,  93.6328125 ,  94.62890625,\n",
              "         95.625     ,  96.62109375,  97.6171875 ,  98.61328125,\n",
              "         99.609375  , 100.60546875, 101.6015625 , 102.59765625,\n",
              "        103.59375   , 104.58984375, 105.5859375 , 106.58203125,\n",
              "        107.578125  , 108.57421875, 109.5703125 , 110.56640625,\n",
              "        111.5625    , 112.55859375, 113.5546875 , 114.55078125,\n",
              "        115.546875  , 116.54296875, 117.5390625 , 118.53515625,\n",
              "        119.53125   , 120.52734375, 121.5234375 , 122.51953125,\n",
              "        123.515625  , 124.51171875, 125.5078125 , 126.50390625,\n",
              "        127.5       , 128.49609375, 129.4921875 , 130.48828125,\n",
              "        131.484375  , 132.48046875, 133.4765625 , 134.47265625,\n",
              "        135.46875   , 136.46484375, 137.4609375 , 138.45703125,\n",
              "        139.453125  , 140.44921875, 141.4453125 , 142.44140625,\n",
              "        143.4375    , 144.43359375, 145.4296875 , 146.42578125,\n",
              "        147.421875  , 148.41796875, 149.4140625 , 150.41015625,\n",
              "        151.40625   , 152.40234375, 153.3984375 , 154.39453125,\n",
              "        155.390625  , 156.38671875, 157.3828125 , 158.37890625,\n",
              "        159.375     , 160.37109375, 161.3671875 , 162.36328125,\n",
              "        163.359375  , 164.35546875, 165.3515625 , 166.34765625,\n",
              "        167.34375   , 168.33984375, 169.3359375 , 170.33203125,\n",
              "        171.328125  , 172.32421875, 173.3203125 , 174.31640625,\n",
              "        175.3125    , 176.30859375, 177.3046875 , 178.30078125,\n",
              "        179.296875  , 180.29296875, 181.2890625 , 182.28515625,\n",
              "        183.28125   , 184.27734375, 185.2734375 , 186.26953125,\n",
              "        187.265625  , 188.26171875, 189.2578125 , 190.25390625,\n",
              "        191.25      , 192.24609375, 193.2421875 , 194.23828125,\n",
              "        195.234375  , 196.23046875, 197.2265625 , 198.22265625,\n",
              "        199.21875   , 200.21484375, 201.2109375 , 202.20703125,\n",
              "        203.203125  , 204.19921875, 205.1953125 , 206.19140625,\n",
              "        207.1875    , 208.18359375, 209.1796875 , 210.17578125,\n",
              "        211.171875  , 212.16796875, 213.1640625 , 214.16015625,\n",
              "        215.15625   , 216.15234375, 217.1484375 , 218.14453125,\n",
              "        219.140625  , 220.13671875, 221.1328125 , 222.12890625,\n",
              "        223.125     , 224.12109375, 225.1171875 , 226.11328125,\n",
              "        227.109375  , 228.10546875, 229.1015625 , 230.09765625,\n",
              "        231.09375   , 232.08984375, 233.0859375 , 234.08203125,\n",
              "        235.078125  , 236.07421875, 237.0703125 , 238.06640625,\n",
              "        239.0625    , 240.05859375, 241.0546875 , 242.05078125,\n",
              "        243.046875  , 244.04296875, 245.0390625 , 246.03515625,\n",
              "        247.03125   , 248.02734375, 249.0234375 , 250.01953125,\n",
              "        251.015625  , 252.01171875, 253.0078125 , 254.00390625,\n",
              "        255.        ]),\n",
              " <BarContainer object of 256 artists>)"
            ]
          },
          "metadata": {},
          "execution_count": 5
        },
        {
          "output_type": "display_data",
          "data": {
            "text/plain": [
              "<Figure size 640x480 with 1 Axes>"
            ],
            "image/png": "[encoded data removed]"
          },
          "metadata": {}
        }
      ]
    },
    {
      "cell_type": "code",
      "source": [
        "gimg = img.copy()\n",
        "gimg[:,:,0] = 0\n",
        "gimg[:,:,2] = 0"
      ],
      "metadata": {
        "id": "sUN6Mz2Fj88t"
      },
      "execution_count": null,
      "outputs": []
    },
    {
      "cell_type": "code",
      "source": [
        "gimg.shape\n",
        "gimg.flatten().shape\n",
        "plt.hist(gimg.flatten(), bins = 256)"
      ],
      "metadata": {
        "colab": {
          "base_uri": "https://localhost:8080/",
          "height": 1000
        },
        "id": "ZH3sxnkokEFA",
        "outputId": "49ed1c38-5563-4a67-f7f8-86d0f9eac9b8"
      },
      "execution_count": null,
      "outputs": [
        {
          "output_type": "execute_result",
          "data": {
            "text/plain": [
              "(array([4.445767e+07, 3.736500e+04, 2.436500e+04, 3.924400e+04,\n",
              "        4.222700e+04, 3.067200e+04, 4.069600e+04, 3.747300e+04,\n",
              "        2.676600e+04, 4.676600e+04, 3.565500e+04, 3.002400e+04,\n",
              "        4.651400e+04, 4.590400e+04, 5.707200e+04, 6.698600e+04,\n",
              "        7.411600e+04, 7.950000e+04, 9.406800e+04, 8.387000e+04,\n",
              "        7.804900e+04, 7.685500e+04, 9.577600e+04, 9.389400e+04,\n",
              "        8.792700e+04, 9.384700e+04, 1.022620e+05, 9.335700e+04,\n",
              "        9.857200e+04, 9.678000e+04, 1.013990e+05, 1.127440e+05,\n",
              "        9.823500e+04, 1.016590e+05, 1.141220e+05, 1.038570e+05,\n",
              "        1.132400e+05, 1.133930e+05, 1.155410e+05, 1.239290e+05,\n",
              "        1.437950e+05, 1.889780e+05, 0.000000e+00, 2.490570e+05,\n",
              "        2.365990e+05, 2.682480e+05, 2.183030e+05, 2.586080e+05,\n",
              "        2.389540e+05, 2.087340e+05, 2.236260e+05, 2.374020e+05,\n",
              "        2.169610e+05, 1.918950e+05, 2.007680e+05, 1.952950e+05,\n",
              "        2.081420e+05, 1.361580e+05, 8.351500e+04, 6.472400e+04,\n",
              "        7.424800e+04, 7.962100e+04, 8.245300e+04, 9.567200e+04,\n",
              "        7.279600e+04, 7.188200e+04, 7.823800e+04, 9.437300e+04,\n",
              "        7.733800e+04, 8.177200e+04, 9.381400e+04, 9.457600e+04,\n",
              "        7.760100e+04, 8.494800e+04, 8.177000e+04, 9.321100e+04,\n",
              "        9.345300e+04, 7.844600e+04, 8.714500e+04, 9.105400e+04,\n",
              "        7.653800e+04, 8.538300e+04, 9.122200e+04, 7.565100e+04,\n",
              "        8.542100e+04, 0.000000e+00, 8.569900e+04, 8.781800e+04,\n",
              "        8.044100e+04, 9.647500e+04, 7.181900e+04, 7.932900e+04,\n",
              "        8.005000e+04, 8.549600e+04, 8.814500e+04, 8.040900e+04,\n",
              "        7.618900e+04, 7.268500e+04, 9.036000e+04, 8.404500e+04,\n",
              "        7.928500e+04, 8.156800e+04, 8.695100e+04, 7.976900e+04,\n",
              "        8.007400e+04, 6.060000e+04, 8.208500e+04, 9.132500e+04,\n",
              "        7.223100e+04, 7.242100e+04, 6.923700e+04, 8.380300e+04,\n",
              "        7.985900e+04, 8.094500e+04, 7.305000e+04, 8.419300e+04,\n",
              "        8.231200e+04, 6.951200e+04, 7.350000e+04, 9.226800e+04,\n",
              "        7.383200e+04, 6.329400e+04, 8.538700e+04, 7.285700e+04,\n",
              "        7.225800e+04, 7.698600e+04, 7.562700e+04, 0.000000e+00,\n",
              "        7.859400e+04, 7.434400e+04, 7.920200e+04, 7.371200e+04,\n",
              "        7.167100e+04, 7.721800e+04, 7.365100e+04, 5.760900e+04,\n",
              "        8.519900e+04, 7.673600e+04, 8.515000e+04, 7.600300e+04,\n",
              "        7.070500e+04, 7.180000e+04, 7.621000e+04, 7.428600e+04,\n",
              "        7.908300e+04, 7.091800e+04, 6.158800e+04, 8.672300e+04,\n",
              "        9.289200e+04, 6.753800e+04, 5.044200e+04, 7.826900e+04,\n",
              "        7.758200e+04, 7.879300e+04, 8.120500e+04, 6.908300e+04,\n",
              "        7.529800e+04, 6.161300e+04, 8.389800e+04, 7.182000e+04,\n",
              "        6.638100e+04, 7.396000e+04, 8.799300e+04, 6.225400e+04,\n",
              "        7.591900e+04, 7.745800e+04, 6.611600e+04, 7.791300e+04,\n",
              "        6.617500e+04, 7.682200e+04, 0.000000e+00, 6.845400e+04,\n",
              "        7.488600e+04, 7.502600e+04, 6.417800e+04, 8.723800e+04,\n",
              "        8.358300e+04, 5.944100e+04, 7.129400e+04, 8.238200e+04,\n",
              "        7.156900e+04, 7.953300e+04, 6.054200e+04, 8.413800e+04,\n",
              "        8.543400e+04, 7.021700e+04, 8.571600e+04, 6.781300e+04,\n",
              "        9.542500e+04, 8.754500e+04, 1.850870e+05, 2.430560e+05,\n",
              "        2.119450e+05, 2.208030e+05, 2.210260e+05, 2.723940e+05,\n",
              "        1.875780e+05, 2.107660e+05, 2.024140e+05, 2.371580e+05,\n",
              "        1.479440e+05, 5.423300e+04, 7.907800e+04, 9.104500e+04,\n",
              "        5.953700e+04, 7.798100e+04, 6.978800e+04, 5.983000e+04,\n",
              "        8.060900e+04, 6.394500e+04, 6.306600e+04, 6.920500e+04,\n",
              "        6.800600e+04, 0.000000e+00, 7.474200e+04, 5.102100e+04,\n",
              "        7.639300e+04, 7.808100e+04, 6.188500e+04, 7.149700e+04,\n",
              "        7.297200e+04, 4.083000e+04, 6.575000e+04, 7.306600e+04,\n",
              "        5.635700e+04, 5.527000e+04, 6.455100e+04, 7.055900e+04,\n",
              "        6.492700e+04, 6.660300e+04, 6.382100e+04, 5.426300e+04,\n",
              "        5.232900e+04, 7.186600e+04, 5.123400e+04, 4.845700e+04,\n",
              "        6.586100e+04, 5.180400e+04, 7.083800e+04, 5.545900e+04,\n",
              "        5.565200e+04, 5.548100e+04, 3.670100e+04, 6.607600e+04,\n",
              "        4.779000e+04, 4.782900e+04, 6.713300e+04, 5.649800e+04,\n",
              "        4.616700e+04, 5.663000e+04, 4.436500e+04, 4.210600e+04,\n",
              "        4.471300e+04, 3.870900e+04, 3.232800e+04, 6.806000e+03]),\n",
              " array([  0.       ,   0.9765625,   1.953125 ,   2.9296875,   3.90625  ,\n",
              "          4.8828125,   5.859375 ,   6.8359375,   7.8125   ,   8.7890625,\n",
              "          9.765625 ,  10.7421875,  11.71875  ,  12.6953125,  13.671875 ,\n",
              "         14.6484375,  15.625    ,  16.6015625,  17.578125 ,  18.5546875,\n",
              "         19.53125  ,  20.5078125,  21.484375 ,  22.4609375,  23.4375   ,\n",
              "         24.4140625,  25.390625 ,  26.3671875,  27.34375  ,  28.3203125,\n",
              "         29.296875 ,  30.2734375,  31.25     ,  32.2265625,  33.203125 ,\n",
              "         34.1796875,  35.15625  ,  36.1328125,  37.109375 ,  38.0859375,\n",
              "         39.0625   ,  40.0390625,  41.015625 ,  41.9921875,  42.96875  ,\n",
              "         43.9453125,  44.921875 ,  45.8984375,  46.875    ,  47.8515625,\n",
              "         48.828125 ,  49.8046875,  50.78125  ,  51.7578125,  52.734375 ,\n",
              "         53.7109375,  54.6875   ,  55.6640625,  56.640625 ,  57.6171875,\n",
              "         58.59375  ,  59.5703125,  60.546875 ,  61.5234375,  62.5      ,\n",
              "         63.4765625,  64.453125 ,  65.4296875,  66.40625  ,  67.3828125,\n",
              "         68.359375 ,  69.3359375,  70.3125   ,  71.2890625,  72.265625 ,\n",
              "         73.2421875,  74.21875  ,  75.1953125,  76.171875 ,  77.1484375,\n",
              "         78.125    ,  79.1015625,  80.078125 ,  81.0546875,  82.03125  ,\n",
              "         83.0078125,  83.984375 ,  84.9609375,  85.9375   ,  86.9140625,\n",
              "         87.890625 ,  88.8671875,  89.84375  ,  90.8203125,  91.796875 ,\n",
              "         92.7734375,  93.75     ,  94.7265625,  95.703125 ,  96.6796875,\n",
              "         97.65625  ,  98.6328125,  99.609375 , 100.5859375, 101.5625   ,\n",
              "        102.5390625, 103.515625 , 104.4921875, 105.46875  , 106.4453125,\n",
              "        107.421875 , 108.3984375, 109.375    , 110.3515625, 111.328125 ,\n",
              "        112.3046875, 113.28125  , 114.2578125, 115.234375 , 116.2109375,\n",
              "        117.1875   , 118.1640625, 119.140625 , 120.1171875, 121.09375  ,\n",
              "        122.0703125, 123.046875 , 124.0234375, 125.       , 125.9765625,\n",
              "        126.953125 , 127.9296875, 128.90625  , 129.8828125, 130.859375 ,\n",
              "        131.8359375, 132.8125   , 133.7890625, 134.765625 , 135.7421875,\n",
              "        136.71875  , 137.6953125, 138.671875 , 139.6484375, 140.625    ,\n",
              "        141.6015625, 142.578125 , 143.5546875, 144.53125  , 145.5078125,\n",
              "        146.484375 , 147.4609375, 148.4375   , 149.4140625, 150.390625 ,\n",
              "        151.3671875, 152.34375  , 153.3203125, 154.296875 , 155.2734375,\n",
              "        156.25     , 157.2265625, 158.203125 , 159.1796875, 160.15625  ,\n",
              "        161.1328125, 162.109375 , 163.0859375, 164.0625   , 165.0390625,\n",
              "        166.015625 , 166.9921875, 167.96875  , 168.9453125, 169.921875 ,\n",
              "        170.8984375, 171.875    , 172.8515625, 173.828125 , 174.8046875,\n",
              "        175.78125  , 176.7578125, 177.734375 , 178.7109375, 179.6875   ,\n",
              "        180.6640625, 181.640625 , 182.6171875, 183.59375  , 184.5703125,\n",
              "        185.546875 , 186.5234375, 187.5      , 188.4765625, 189.453125 ,\n",
              "        190.4296875, 191.40625  , 192.3828125, 193.359375 , 194.3359375,\n",
              "        195.3125   , 196.2890625, 197.265625 , 198.2421875, 199.21875  ,\n",
              "        200.1953125, 201.171875 , 202.1484375, 203.125    , 204.1015625,\n",
              "        205.078125 , 206.0546875, 207.03125  , 208.0078125, 208.984375 ,\n",
              "        209.9609375, 210.9375   , 211.9140625, 212.890625 , 213.8671875,\n",
              "        214.84375  , 215.8203125, 216.796875 , 217.7734375, 218.75     ,\n",
              "        219.7265625, 220.703125 , 221.6796875, 222.65625  , 223.6328125,\n",
              "        224.609375 , 225.5859375, 226.5625   , 227.5390625, 228.515625 ,\n",
              "        229.4921875, 230.46875  , 231.4453125, 232.421875 , 233.3984375,\n",
              "        234.375    , 235.3515625, 236.328125 , 237.3046875, 238.28125  ,\n",
              "        239.2578125, 240.234375 , 241.2109375, 242.1875   , 243.1640625,\n",
              "        244.140625 , 245.1171875, 246.09375  , 247.0703125, 248.046875 ,\n",
              "        249.0234375, 250.       ]),\n",
              " <BarContainer object of 256 artists>)"
            ]
          },
          "metadata": {},
          "execution_count": 12
        },
        {
          "output_type": "display_data",
          "data": {
            "text/plain": [
              "<Figure size 640x480 with 1 Axes>"
            ],
            "image/png": "[encoded data removed]"
          },
          "metadata": {}
        }
      ]
    },
    {
      "cell_type": "code",
      "source": [
        "rimg = img.copy()\n",
        "rimg[:,:,0] = 0\n",
        "rimg[:,:,1] = 0"
      ],
      "metadata": {
        "id": "_y6elu6Xk630"
      },
      "execution_count": null,
      "outputs": []
    },
    {
      "cell_type": "code",
      "source": [
        "rimg.shape\n",
        "rimg.flatten().shape\n",
        "plt.hist(rimg.flatten(), bins = 256)"
      ],
      "metadata": {
        "colab": {
          "base_uri": "https://localhost:8080/",
          "height": 1000
        },
        "id": "B-ScYOuKlAnT",
        "outputId": "0285462c-7fd1-4834-af6e-3e04d88c180b"
      },
      "execution_count": null,
      "outputs": [
        {
          "output_type": "execute_result",
          "data": {
            "text/plain": [
              "(array([4.4440748e+07, 0.0000000e+00, 0.0000000e+00, 0.0000000e+00,\n",
              "        0.0000000e+00, 1.0000000e+00, 1.3840000e+03, 1.9412000e+04,\n",
              "        7.4192000e+04, 1.4042400e+05, 1.7271400e+05, 1.7334200e+05,\n",
              "        1.9031000e+05, 1.8974800e+05, 1.8943200e+05, 2.1207600e+05,\n",
              "        2.1926500e+05, 2.3704100e+05, 2.4251400e+05, 2.5015600e+05,\n",
              "        2.5638200e+05, 2.8241200e+05, 3.1964900e+05, 5.0361600e+05,\n",
              "        7.8147000e+05, 9.0121600e+05, 1.0046510e+06, 8.1026400e+05,\n",
              "        7.7526000e+05, 4.0556900e+05, 1.9999100e+05, 6.0550000e+04,\n",
              "        1.1005000e+05, 9.0748000e+04, 9.8643000e+04, 6.5011000e+04,\n",
              "        7.2330000e+04, 7.2253000e+04, 1.1483400e+05, 8.1423000e+04,\n",
              "        7.2838000e+04, 5.2235000e+04, 1.1347300e+05, 7.1055000e+04,\n",
              "        1.0737600e+05, 4.3696000e+04, 4.4474000e+04, 8.9102000e+04,\n",
              "        9.0601000e+04, 7.8043000e+04, 8.7940000e+04, 6.0838000e+04,\n",
              "        7.8170000e+04, 6.5946000e+04, 8.5212000e+04, 4.4678000e+04,\n",
              "        5.0169000e+04, 9.2249000e+04, 4.5716000e+04, 8.5228000e+04,\n",
              "        9.7490000e+04, 3.7257000e+04, 5.3312000e+04, 8.6909000e+04,\n",
              "        7.4616000e+04, 6.2690000e+04, 3.4623000e+04, 9.2069000e+04,\n",
              "        5.3216000e+04, 8.4177000e+04, 6.0654000e+04, 6.3740000e+04,\n",
              "        4.8400000e+04, 8.5457000e+04, 7.0686000e+04, 8.5402000e+04,\n",
              "        5.1323000e+04, 3.9082000e+04, 7.1004000e+04, 8.9891000e+04,\n",
              "        7.8977000e+04, 8.9115000e+04, 4.3969000e+04, 7.5893000e+04,\n",
              "        5.0463000e+04, 9.9224000e+04, 4.7636000e+04, 4.4563000e+04,\n",
              "        8.2738000e+04, 4.3790000e+04, 8.7499000e+04, 4.8599000e+04,\n",
              "        3.8491000e+04, 3.3080000e+04, 4.9909000e+04, 3.1974000e+04,\n",
              "        2.6866000e+04, 3.7882000e+04, 3.2407000e+04, 4.6314000e+04,\n",
              "        3.3737000e+04, 2.7596000e+04, 3.1433000e+04, 3.9972000e+04,\n",
              "        4.3980000e+04, 3.6632000e+04, 3.1593000e+04, 3.3245000e+04,\n",
              "        3.1242000e+04, 3.9743000e+04, 3.5763000e+04, 3.4551000e+04,\n",
              "        4.2447000e+04, 3.2714000e+04, 2.5896000e+04, 4.4481000e+04,\n",
              "        2.8841000e+04, 4.3085000e+04, 3.6234000e+04, 3.1338000e+04,\n",
              "        2.9696000e+04, 2.8833000e+04, 4.8415000e+04, 3.6836000e+04,\n",
              "        4.1553000e+04, 2.6344000e+04, 2.2769000e+04, 3.5610000e+04,\n",
              "        4.0919000e+04, 3.8224000e+04, 4.3241000e+04, 3.2772000e+04,\n",
              "        3.8091000e+04, 2.7897000e+04, 3.6199000e+04, 3.1342000e+04,\n",
              "        3.5878000e+04, 3.8704000e+04, 2.9268000e+04, 2.7485000e+04,\n",
              "        4.2679000e+04, 3.5778000e+04, 4.1667000e+04, 3.6222000e+04,\n",
              "        3.1933000e+04, 3.6829000e+04, 2.5788000e+04, 4.3656000e+04,\n",
              "        3.4061000e+04, 3.3943000e+04, 3.5680000e+04, 2.7673000e+04,\n",
              "        4.2378000e+04, 3.4626000e+04, 2.7292000e+04, 3.7170000e+04,\n",
              "        3.6336000e+04, 4.0349000e+04, 2.7899000e+04, 3.1919000e+04,\n",
              "        4.2848000e+04, 3.6366000e+04, 3.6536000e+04, 3.0512000e+04,\n",
              "        2.9292000e+04, 4.6076000e+04, 3.4158000e+04, 3.4405000e+04,\n",
              "        3.3940000e+04, 4.1885000e+04, 3.0813000e+04, 2.9318000e+04,\n",
              "        3.4898000e+04, 3.5346000e+04, 4.1259000e+04, 4.0603000e+04,\n",
              "        2.7156000e+04, 3.2443000e+04, 3.9791000e+04, 3.1066000e+04,\n",
              "        4.6301000e+04, 2.9283000e+04, 4.2880000e+04, 3.6131000e+04,\n",
              "        3.5899000e+04, 4.0179000e+04, 2.6751000e+04, 4.1375000e+04,\n",
              "        3.5413000e+04, 3.3624000e+04, 4.0962000e+04, 3.6939000e+04,\n",
              "        3.9201000e+04, 4.0137000e+04, 4.0628000e+04, 3.3932000e+04,\n",
              "        3.1205000e+04, 3.4978000e+04, 5.0141000e+04, 4.0450000e+04,\n",
              "        4.1213000e+04, 3.5474000e+04, 3.3490000e+04, 4.6802000e+04,\n",
              "        4.5072000e+04, 7.9130000e+04, 6.0345000e+04, 8.9687000e+04,\n",
              "        8.4457000e+04, 6.7491000e+04, 7.9200000e+04, 6.8547000e+04,\n",
              "        7.9853000e+04, 6.4514000e+04, 6.8208000e+04, 6.6177000e+04,\n",
              "        7.5148000e+04, 8.3003000e+04, 8.0815000e+04, 6.3314000e+04,\n",
              "        8.1229000e+04, 5.4957000e+04, 6.7552000e+04, 6.7466000e+04,\n",
              "        6.7250000e+04, 9.0734000e+04, 5.8112000e+04, 6.5199000e+04,\n",
              "        8.0542000e+04, 6.0806000e+04, 6.5541000e+04, 6.4728000e+04,\n",
              "        7.3316000e+04, 7.5820000e+04, 6.4171000e+04, 7.0631000e+04,\n",
              "        7.1533000e+04, 6.6372000e+04, 6.4755000e+04, 4.8714000e+04,\n",
              "        7.8984000e+04, 6.5075000e+04, 7.9533000e+04, 6.9066000e+04,\n",
              "        6.5854000e+04, 7.5747000e+04, 5.0521000e+04, 6.4841000e+04,\n",
              "        6.5831000e+04, 7.7656000e+04, 7.6429000e+04, 6.0378000e+04,\n",
              "        7.1187000e+04, 8.4791000e+04, 3.7531600e+05, 1.4154410e+06]),\n",
              " array([  0.        ,   0.99609375,   1.9921875 ,   2.98828125,\n",
              "          3.984375  ,   4.98046875,   5.9765625 ,   6.97265625,\n",
              "          7.96875   ,   8.96484375,   9.9609375 ,  10.95703125,\n",
              "         11.953125  ,  12.94921875,  13.9453125 ,  14.94140625,\n",
              "         15.9375    ,  16.93359375,  17.9296875 ,  18.92578125,\n",
              "         19.921875  ,  20.91796875,  21.9140625 ,  22.91015625,\n",
              "         23.90625   ,  24.90234375,  25.8984375 ,  26.89453125,\n",
              "         27.890625  ,  28.88671875,  29.8828125 ,  30.87890625,\n",
              "         31.875     ,  32.87109375,  33.8671875 ,  34.86328125,\n",
              "         35.859375  ,  36.85546875,  37.8515625 ,  38.84765625,\n",
              "         39.84375   ,  40.83984375,  41.8359375 ,  42.83203125,\n",
              "         43.828125  ,  44.82421875,  45.8203125 ,  46.81640625,\n",
              "         47.8125    ,  48.80859375,  49.8046875 ,  50.80078125,\n",
              "         51.796875  ,  52.79296875,  53.7890625 ,  54.78515625,\n",
              "         55.78125   ,  56.77734375,  57.7734375 ,  58.76953125,\n",
              "         59.765625  ,  60.76171875,  61.7578125 ,  62.75390625,\n",
              "         63.75      ,  64.74609375,  65.7421875 ,  66.73828125,\n",
              "         67.734375  ,  68.73046875,  69.7265625 ,  70.72265625,\n",
              "         71.71875   ,  72.71484375,  73.7109375 ,  74.70703125,\n",
              "         75.703125  ,  76.69921875,  77.6953125 ,  78.69140625,\n",
              "         79.6875    ,  80.68359375,  81.6796875 ,  82.67578125,\n",
              "         83.671875  ,  84.66796875,  85.6640625 ,  86.66015625,\n",
              "         87.65625   ,  88.65234375,  89.6484375 ,  90.64453125,\n",
              "         91.640625  ,  92.63671875,  93.6328125 ,  94.62890625,\n",
              "         95.625     ,  96.62109375,  97.6171875 ,  98.61328125,\n",
              "         99.609375  , 100.60546875, 101.6015625 , 102.59765625,\n",
              "        103.59375   , 104.58984375, 105.5859375 , 106.58203125,\n",
              "        107.578125  , 108.57421875, 109.5703125 , 110.56640625,\n",
              "        111.5625    , 112.55859375, 113.5546875 , 114.55078125,\n",
              "        115.546875  , 116.54296875, 117.5390625 , 118.53515625,\n",
              "        119.53125   , 120.52734375, 121.5234375 , 122.51953125,\n",
              "        123.515625  , 124.51171875, 125.5078125 , 126.50390625,\n",
              "        127.5       , 128.49609375, 129.4921875 , 130.48828125,\n",
              "        131.484375  , 132.48046875, 133.4765625 , 134.47265625,\n",
              "        135.46875   , 136.46484375, 137.4609375 , 138.45703125,\n",
              "        139.453125  , 140.44921875, 141.4453125 , 142.44140625,\n",
              "        143.4375    , 144.43359375, 145.4296875 , 146.42578125,\n",
              "        147.421875  , 148.41796875, 149.4140625 , 150.41015625,\n",
              "        151.40625   , 152.40234375, 153.3984375 , 154.39453125,\n",
              "        155.390625  , 156.38671875, 157.3828125 , 158.37890625,\n",
              "        159.375     , 160.37109375, 161.3671875 , 162.36328125,\n",
              "        163.359375  , 164.35546875, 165.3515625 , 166.34765625,\n",
              "        167.34375   , 168.33984375, 169.3359375 , 170.33203125,\n",
              "        171.328125  , 172.32421875, 173.3203125 , 174.31640625,\n",
              "        175.3125    , 176.30859375, 177.3046875 , 178.30078125,\n",
              "        179.296875  , 180.29296875, 181.2890625 , 182.28515625,\n",
              "        183.28125   , 184.27734375, 185.2734375 , 186.26953125,\n",
              "        187.265625  , 188.26171875, 189.2578125 , 190.25390625,\n",
              "        191.25      , 192.24609375, 193.2421875 , 194.23828125,\n",
              "        195.234375  , 196.23046875, 197.2265625 , 198.22265625,\n",
              "        199.21875   , 200.21484375, 201.2109375 , 202.20703125,\n",
              "        203.203125  , 204.19921875, 205.1953125 , 206.19140625,\n",
              "        207.1875    , 208.18359375, 209.1796875 , 210.17578125,\n",
              "        211.171875  , 212.16796875, 213.1640625 , 214.16015625,\n",
              "        215.15625   , 216.15234375, 217.1484375 , 218.14453125,\n",
              "        219.140625  , 220.13671875, 221.1328125 , 222.12890625,\n",
              "        223.125     , 224.12109375, 225.1171875 , 226.11328125,\n",
              "        227.109375  , 228.10546875, 229.1015625 , 230.09765625,\n",
              "        231.09375   , 232.08984375, 233.0859375 , 234.08203125,\n",
              "        235.078125  , 236.07421875, 237.0703125 , 238.06640625,\n",
              "        239.0625    , 240.05859375, 241.0546875 , 242.05078125,\n",
              "        243.046875  , 244.04296875, 245.0390625 , 246.03515625,\n",
              "        247.03125   , 248.02734375, 249.0234375 , 250.01953125,\n",
              "        251.015625  , 252.01171875, 253.0078125 , 254.00390625,\n",
              "        255.        ]),\n",
              " <BarContainer object of 256 artists>)"
            ]
          },
          "metadata": {},
          "execution_count": 14
        },
        {
          "output_type": "display_data",
          "data": {
            "text/plain": [
              "<Figure size 640x480 with 1 Axes>"
            ],
            "image/png": "[encoded data removed]"
          },
          "metadata": {}
        }
      ]
    },
    {
      "cell_type": "code",
      "source": [
        "imggray = cv2.cvtColor(img, cv2.COLOR_BGR2GRAY)\n",
        "imggray.shape\n",
        "imggray.flatten().shape\n",
        "plt.hist(imggray.flatten(), bins = 256)"
      ],
      "metadata": {
        "colab": {
          "base_uri": "https://localhost:8080/",
          "height": 1000
        },
        "id": "3b-WRUzMlPyv",
        "outputId": "efe8591d-9e91-4f73-ab17-c3f1c3db5d0c"
      },
      "execution_count": null,
      "outputs": [
        {
          "output_type": "execute_result",
          "data": {
            "text/plain": [
              "(array([   467.,   3973.,   9043.,  17726.,  28189.,      0.,  28865.,\n",
              "         33613.,  44553.,  46902.,  45303.,      0.,  47179.,  54284.,\n",
              "         57021.,  51818.,  55099.,      0.,  61883.,  62363.,  61341.,\n",
              "         62920.,      0.,  69255.,  70662.,  68824.,  73578.,  78955.,\n",
              "             0.,  82188.,  87005.,  92487.,  98707.,  98916.,      0.,\n",
              "        104978., 106783., 110681., 110896.,      0., 113280., 117301.,\n",
              "        122160., 122801., 129782.,      0., 181348., 195848., 238476.,\n",
              "        254294., 196427.,      0., 220593., 260213., 208194., 228970.,\n",
              "             0., 271184., 223322., 214650., 259461., 227424.,      0.,\n",
              "        227896., 212545., 256494., 182913., 223153.,      0., 236344.,\n",
              "        197296., 184956., 180283.,      0., 118038., 119795., 121599.,\n",
              "        116997., 120021.,      0., 122913., 119284., 118605., 115795.,\n",
              "        119708.,      0., 120126., 114352., 117811., 123669., 107388.,\n",
              "             0., 121665., 107355., 110788., 126435.,      0., 108112.,\n",
              "        112049., 112224., 109083., 124831.,      0., 109622., 114014.,\n",
              "        116821., 100385., 124306.,      0., 111910., 111271., 105167.,\n",
              "        124394.,      0., 101648., 121256., 109900., 107177., 125019.,\n",
              "             0., 107575., 121617., 106643., 117873., 109927.,      0.,\n",
              "        109515., 126721., 111516., 117924.,      0., 111201., 173344.,\n",
              "        231298., 173538., 226284.,      0., 199840., 224378., 197081.,\n",
              "        188461., 223330.,      0., 174026., 224537., 144468., 220798.,\n",
              "             0., 171700., 209317., 160901., 187180., 187376.,      0.,\n",
              "        180032., 189294., 141051., 198054., 105295.,      0.,  76141.,\n",
              "         62068.,  73158.,  63384.,      0.,  75986.,  57248.,  76938.,\n",
              "         58163.,  86159.,      0.,  69808.,  64695.,  71142.,  68628.,\n",
              "         69501.,      0.,  75109.,  57318.,  68793.,  68629.,  67833.,\n",
              "             0.,  66653.,  70143.,  69188.,  52120.,      0.,  77849.,\n",
              "         61115.,  66105.,  66961.,  56602.,      0.,  65327.,  61887.,\n",
              "         62014.,  70986.,  50453.,      0.,  75767.,  50131.,  71355.,\n",
              "         55186.,      0.,  58516.,  62948.,  60096.,  53272.,  71401.,\n",
              "             0.,  44657.,  58695.,  53899.,  58017.,  54660.,      0.,\n",
              "         54757.,  68714.,  45089.,  62812.,      0.,  51056.,  55463.,\n",
              "         46519.,  62654.,  50702.,      0.,  57457.,  43291.,  57892.,\n",
              "         43367.,  59802.,      0.,  44811.,  47736.,  57502.,  43416.,\n",
              "             0.,  46461.,  53214.,  45452.,  50175.,  41324.,      0.,\n",
              "         46941.,  41764.,  47690.,  47054.,  36670.,      0.,  59028.,\n",
              "         23469.,  47830.,  38642.,  27223.]),\n",
              " array([ 16.        ,  16.82421875,  17.6484375 ,  18.47265625,\n",
              "         19.296875  ,  20.12109375,  20.9453125 ,  21.76953125,\n",
              "         22.59375   ,  23.41796875,  24.2421875 ,  25.06640625,\n",
              "         25.890625  ,  26.71484375,  27.5390625 ,  28.36328125,\n",
              "         29.1875    ,  30.01171875,  30.8359375 ,  31.66015625,\n",
              "         32.484375  ,  33.30859375,  34.1328125 ,  34.95703125,\n",
              "         35.78125   ,  36.60546875,  37.4296875 ,  38.25390625,\n",
              "         39.078125  ,  39.90234375,  40.7265625 ,  41.55078125,\n",
              "         42.375     ,  43.19921875,  44.0234375 ,  44.84765625,\n",
              "         45.671875  ,  46.49609375,  47.3203125 ,  48.14453125,\n",
              "         48.96875   ,  49.79296875,  50.6171875 ,  51.44140625,\n",
              "         52.265625  ,  53.08984375,  53.9140625 ,  54.73828125,\n",
              "         55.5625    ,  56.38671875,  57.2109375 ,  58.03515625,\n",
              "         58.859375  ,  59.68359375,  60.5078125 ,  61.33203125,\n",
              "         62.15625   ,  62.98046875,  63.8046875 ,  64.62890625,\n",
              "         65.453125  ,  66.27734375,  67.1015625 ,  67.92578125,\n",
              "         68.75      ,  69.57421875,  70.3984375 ,  71.22265625,\n",
              "         72.046875  ,  72.87109375,  73.6953125 ,  74.51953125,\n",
              "         75.34375   ,  76.16796875,  76.9921875 ,  77.81640625,\n",
              "         78.640625  ,  79.46484375,  80.2890625 ,  81.11328125,\n",
              "         81.9375    ,  82.76171875,  83.5859375 ,  84.41015625,\n",
              "         85.234375  ,  86.05859375,  86.8828125 ,  87.70703125,\n",
              "         88.53125   ,  89.35546875,  90.1796875 ,  91.00390625,\n",
              "         91.828125  ,  92.65234375,  93.4765625 ,  94.30078125,\n",
              "         95.125     ,  95.94921875,  96.7734375 ,  97.59765625,\n",
              "         98.421875  ,  99.24609375, 100.0703125 , 100.89453125,\n",
              "        101.71875   , 102.54296875, 103.3671875 , 104.19140625,\n",
              "        105.015625  , 105.83984375, 106.6640625 , 107.48828125,\n",
              "        108.3125    , 109.13671875, 109.9609375 , 110.78515625,\n",
              "        111.609375  , 112.43359375, 113.2578125 , 114.08203125,\n",
              "        114.90625   , 115.73046875, 116.5546875 , 117.37890625,\n",
              "        118.203125  , 119.02734375, 119.8515625 , 120.67578125,\n",
              "        121.5       , 122.32421875, 123.1484375 , 123.97265625,\n",
              "        124.796875  , 125.62109375, 126.4453125 , 127.26953125,\n",
              "        128.09375   , 128.91796875, 129.7421875 , 130.56640625,\n",
              "        131.390625  , 132.21484375, 133.0390625 , 133.86328125,\n",
              "        134.6875    , 135.51171875, 136.3359375 , 137.16015625,\n",
              "        137.984375  , 138.80859375, 139.6328125 , 140.45703125,\n",
              "        141.28125   , 142.10546875, 142.9296875 , 143.75390625,\n",
              "        144.578125  , 145.40234375, 146.2265625 , 147.05078125,\n",
              "        147.875     , 148.69921875, 149.5234375 , 150.34765625,\n",
              "        151.171875  , 151.99609375, 152.8203125 , 153.64453125,\n",
              "        154.46875   , 155.29296875, 156.1171875 , 156.94140625,\n",
              "        157.765625  , 158.58984375, 159.4140625 , 160.23828125,\n",
              "        161.0625    , 161.88671875, 162.7109375 , 163.53515625,\n",
              "        164.359375  , 165.18359375, 166.0078125 , 166.83203125,\n",
              "        167.65625   , 168.48046875, 169.3046875 , 170.12890625,\n",
              "        170.953125  , 171.77734375, 172.6015625 , 173.42578125,\n",
              "        174.25      , 175.07421875, 175.8984375 , 176.72265625,\n",
              "        177.546875  , 178.37109375, 179.1953125 , 180.01953125,\n",
              "        180.84375   , 181.66796875, 182.4921875 , 183.31640625,\n",
              "        184.140625  , 184.96484375, 185.7890625 , 186.61328125,\n",
              "        187.4375    , 188.26171875, 189.0859375 , 189.91015625,\n",
              "        190.734375  , 191.55859375, 192.3828125 , 193.20703125,\n",
              "        194.03125   , 194.85546875, 195.6796875 , 196.50390625,\n",
              "        197.328125  , 198.15234375, 198.9765625 , 199.80078125,\n",
              "        200.625     , 201.44921875, 202.2734375 , 203.09765625,\n",
              "        203.921875  , 204.74609375, 205.5703125 , 206.39453125,\n",
              "        207.21875   , 208.04296875, 208.8671875 , 209.69140625,\n",
              "        210.515625  , 211.33984375, 212.1640625 , 212.98828125,\n",
              "        213.8125    , 214.63671875, 215.4609375 , 216.28515625,\n",
              "        217.109375  , 217.93359375, 218.7578125 , 219.58203125,\n",
              "        220.40625   , 221.23046875, 222.0546875 , 222.87890625,\n",
              "        223.703125  , 224.52734375, 225.3515625 , 226.17578125,\n",
              "        227.        ]),\n",
              " <BarContainer object of 256 artists>)"
            ]
          },
          "metadata": {},
          "execution_count": 15
        },
        {
          "output_type": "display_data",
          "data": {
            "text/plain": [
              "<Figure size 640x480 with 1 Axes>"
            ],
            "image/png": "[encoded data removed]"
          },
          "metadata": {}
        }
      ]
    },
    {
      "cell_type": "code",
      "source": [
        "grayhist = cv2.calcHist([imggray], [0], None, [256], [0,256])\n",
        "plt.hist(imggray.flatten(), bins = 256)\n",
        "plt.plot(grayhist)"
      ],
      "metadata": {
        "colab": {
          "base_uri": "https://localhost:8080/",
          "height": 448
        },
        "id": "ep0NjXUVlm2M",
        "outputId": "f007bc44-9bf4-463b-c84e-cb0e5d7159e7"
      },
      "execution_count": null,
      "outputs": [
        {
          "output_type": "execute_result",
          "data": {
            "text/plain": [
              "[<matplotlib.lines.Line2D at 0x78ac14104bb0>]"
            ]
          },
          "metadata": {},
          "execution_count": 16
        },
        {
          "output_type": "display_data",
          "data": {
            "text/plain": [
              "<Figure size 640x480 with 1 Axes>"
            ],
            "image/png": "[encoded data removed]"
          },
          "metadata": {}
        }
      ]
    }
  ]
}